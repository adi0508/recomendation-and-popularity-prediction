{
  "nbformat": 4,
  "nbformat_minor": 0,
  "metadata": {
    "kernelspec": {
      "display_name": "Python 3",
      "language": "python",
      "name": "python3"
    },
    "language_info": {
      "codemirror_mode": {
        "name": "ipython",
        "version": 3
      },
      "file_extension": ".py",
      "mimetype": "text/x-python",
      "name": "python",
      "nbconvert_exporter": "python",
      "pygments_lexer": "ipython3",
      "version": "3.7.6"
    },
    "colab": {
      "name": "Recommender_system.ipynb",
      "provenance": []
    }
  },
  "cells": [
    {
      "cell_type": "code",
      "metadata": {
        "colab": {
          "base_uri": "https://localhost:8080/"
        },
        "id": "w1CsCrCJkdEs",
        "outputId": "90768452-d380-463f-f936-1dbcd07aef49"
      },
      "source": [
        "from google.colab import drive\n",
        "drive.mount('/content/drive')"
      ],
      "execution_count": 2,
      "outputs": [
        {
          "output_type": "stream",
          "text": [
            "Mounted at /content/drive\n"
          ],
          "name": "stdout"
        }
      ]
    },
    {
      "cell_type": "markdown",
      "metadata": {
        "id": "DNO-Z7mJj3Ic"
      },
      "source": [
        "In this notebook, I implemented a music artist recommender system using the spotify dataset. "
      ]
    },
    {
      "cell_type": "markdown",
      "metadata": {
        "id": "ztVRtKc5j3Ip"
      },
      "source": [
        "Data Loading"
      ]
    },
    {
      "cell_type": "code",
      "metadata": {
        "id": "flNQ8ec_kFq_"
      },
      "source": [
        "import numpy as np \r\n",
        "import pandas as pd "
      ],
      "execution_count": 41,
      "outputs": []
    },
    {
      "cell_type": "code",
      "metadata": {
        "_cell_guid": "79c7e3d0-c299-4dcb-8224-4455121ee9b0",
        "_uuid": "d629ff2d2480ee46fbb7e2d37f6b5fab8052498a",
        "id": "5EA5pKGlj3Iq",
        "colab": {
          "base_uri": "https://localhost:8080/",
          "height": 605
        },
        "outputId": "900dd689-1017-4ceb-cd08-2e5272a98282"
      },
      "source": [
        "data_artist = pd.read_csv('/content/drive/MyDrive/Technocolab/data_by_artist.csv')\n",
        "print(data_artist.columns)\n",
        "print(\"\\n\")\n",
        "print(data_artist.shape)\n",
        "data_artist.head()"
      ],
      "execution_count": 42,
      "outputs": [
        {
          "output_type": "stream",
          "text": [
            "Index(['artists', 'acousticness', 'danceability', 'duration_ms', 'energy',\n",
            "       'instrumentalness', 'liveness', 'loudness', 'speechiness', 'tempo',\n",
            "       'valence', 'popularity', 'key', 'mode', 'count'],\n",
            "      dtype='object')\n",
            "\n",
            "\n",
            "(27621, 15)\n"
          ],
          "name": "stdout"
        },
        {
          "output_type": "execute_result",
          "data": {
            "text/html": [
              "<div>\n",
              "<style scoped>\n",
              "    .dataframe tbody tr th:only-of-type {\n",
              "        vertical-align: middle;\n",
              "    }\n",
              "\n",
              "    .dataframe tbody tr th {\n",
              "        vertical-align: top;\n",
              "    }\n",
              "\n",
              "    .dataframe thead th {\n",
              "        text-align: right;\n",
              "    }\n",
              "</style>\n",
              "<table border=\"1\" class=\"dataframe\">\n",
              "  <thead>\n",
              "    <tr style=\"text-align: right;\">\n",
              "      <th></th>\n",
              "      <th>artists</th>\n",
              "      <th>acousticness</th>\n",
              "      <th>danceability</th>\n",
              "      <th>duration_ms</th>\n",
              "      <th>energy</th>\n",
              "      <th>instrumentalness</th>\n",
              "      <th>liveness</th>\n",
              "      <th>loudness</th>\n",
              "      <th>speechiness</th>\n",
              "      <th>tempo</th>\n",
              "      <th>valence</th>\n",
              "      <th>popularity</th>\n",
              "      <th>key</th>\n",
              "      <th>mode</th>\n",
              "      <th>count</th>\n",
              "    </tr>\n",
              "  </thead>\n",
              "  <tbody>\n",
              "    <tr>\n",
              "      <th>0</th>\n",
              "      <td>\"Cats\" 1981 Original London Cast</td>\n",
              "      <td>0.575083</td>\n",
              "      <td>0.442750</td>\n",
              "      <td>247260.000000</td>\n",
              "      <td>0.386336</td>\n",
              "      <td>0.022717</td>\n",
              "      <td>0.287708</td>\n",
              "      <td>-14.205417</td>\n",
              "      <td>0.180675</td>\n",
              "      <td>115.983500</td>\n",
              "      <td>0.334433</td>\n",
              "      <td>38.000000</td>\n",
              "      <td>5</td>\n",
              "      <td>1</td>\n",
              "      <td>12</td>\n",
              "    </tr>\n",
              "    <tr>\n",
              "      <th>1</th>\n",
              "      <td>\"Cats\" 1983 Broadway Cast</td>\n",
              "      <td>0.862538</td>\n",
              "      <td>0.441731</td>\n",
              "      <td>287280.000000</td>\n",
              "      <td>0.406808</td>\n",
              "      <td>0.081158</td>\n",
              "      <td>0.315215</td>\n",
              "      <td>-10.690000</td>\n",
              "      <td>0.176212</td>\n",
              "      <td>103.044154</td>\n",
              "      <td>0.268865</td>\n",
              "      <td>33.076923</td>\n",
              "      <td>5</td>\n",
              "      <td>1</td>\n",
              "      <td>26</td>\n",
              "    </tr>\n",
              "    <tr>\n",
              "      <th>2</th>\n",
              "      <td>\"Fiddler On The Roof” Motion Picture Chorus</td>\n",
              "      <td>0.856571</td>\n",
              "      <td>0.348286</td>\n",
              "      <td>328920.000000</td>\n",
              "      <td>0.286571</td>\n",
              "      <td>0.024593</td>\n",
              "      <td>0.325786</td>\n",
              "      <td>-15.230714</td>\n",
              "      <td>0.118514</td>\n",
              "      <td>77.375857</td>\n",
              "      <td>0.354857</td>\n",
              "      <td>34.285714</td>\n",
              "      <td>0</td>\n",
              "      <td>1</td>\n",
              "      <td>7</td>\n",
              "    </tr>\n",
              "    <tr>\n",
              "      <th>3</th>\n",
              "      <td>\"Fiddler On The Roof” Motion Picture Orchestra</td>\n",
              "      <td>0.884926</td>\n",
              "      <td>0.425074</td>\n",
              "      <td>262890.962963</td>\n",
              "      <td>0.245770</td>\n",
              "      <td>0.073587</td>\n",
              "      <td>0.275481</td>\n",
              "      <td>-15.639370</td>\n",
              "      <td>0.123200</td>\n",
              "      <td>88.667630</td>\n",
              "      <td>0.372030</td>\n",
              "      <td>34.444444</td>\n",
              "      <td>0</td>\n",
              "      <td>1</td>\n",
              "      <td>27</td>\n",
              "    </tr>\n",
              "    <tr>\n",
              "      <th>4</th>\n",
              "      <td>\"Joseph And The Amazing Technicolor Dreamcoat\"...</td>\n",
              "      <td>0.605444</td>\n",
              "      <td>0.437333</td>\n",
              "      <td>232428.111111</td>\n",
              "      <td>0.429333</td>\n",
              "      <td>0.037534</td>\n",
              "      <td>0.216111</td>\n",
              "      <td>-11.447222</td>\n",
              "      <td>0.086000</td>\n",
              "      <td>120.329667</td>\n",
              "      <td>0.458667</td>\n",
              "      <td>42.555556</td>\n",
              "      <td>11</td>\n",
              "      <td>1</td>\n",
              "      <td>9</td>\n",
              "    </tr>\n",
              "  </tbody>\n",
              "</table>\n",
              "</div>"
            ],
            "text/plain": [
              "                                             artists  acousticness  ...  mode  count\n",
              "0                   \"Cats\" 1981 Original London Cast      0.575083  ...     1     12\n",
              "1                          \"Cats\" 1983 Broadway Cast      0.862538  ...     1     26\n",
              "2        \"Fiddler On The Roof” Motion Picture Chorus      0.856571  ...     1      7\n",
              "3     \"Fiddler On The Roof” Motion Picture Orchestra      0.884926  ...     1     27\n",
              "4  \"Joseph And The Amazing Technicolor Dreamcoat\"...      0.605444  ...     1      9\n",
              "\n",
              "[5 rows x 15 columns]"
            ]
          },
          "metadata": {
            "tags": []
          },
          "execution_count": 42
        }
      ]
    },
    {
      "cell_type": "markdown",
      "metadata": {
        "id": "FiLhlkPwj3Ir"
      },
      "source": [
        "Drop the columns not very useful for recommendation."
      ]
    },
    {
      "cell_type": "code",
      "metadata": {
        "id": "fEMSb5voj3Ir",
        "colab": {
          "base_uri": "https://localhost:8080/"
        },
        "outputId": "726832da-8b17-4de1-c753-f4c9409b167c"
      },
      "source": [
        "data_artist.drop(['duration_ms','key','mode','count'],axis=1,inplace=True)\r\n",
        "data_artist.shape"
      ],
      "execution_count": 43,
      "outputs": [
        {
          "output_type": "execute_result",
          "data": {
            "text/plain": [
              "(27621, 11)"
            ]
          },
          "metadata": {
            "tags": []
          },
          "execution_count": 43
        }
      ]
    },
    {
      "cell_type": "markdown",
      "metadata": {
        "id": "w3vYlfmGj3Is"
      },
      "source": [
        "Normalize columns which are already not."
      ]
    },
    {
      "cell_type": "code",
      "metadata": {
        "id": "iPDV9K4dj3It"
      },
      "source": [
        "data_artist['popularity'] = data_artist['popularity']/100\n",
        "data_artist['tempo'] = (data_artist['tempo'] - 50)/100\n",
        "data_artist['loudness'] = (data_artist['loudness'] + 60)/60"
      ],
      "execution_count": 44,
      "outputs": []
    },
    {
      "cell_type": "markdown",
      "metadata": {
        "id": "SFpwUqRej3It"
      },
      "source": [
        "Creating a user profile and then create recommendation matrix based on user ratings of a few artists."
      ]
    },
    {
      "cell_type": "code",
      "metadata": {
        "id": "v8-FqKkyj3Iu"
      },
      "source": [
        "features = ['acousticness', 'danceability', 'energy', 'instrumentalness', 'liveness', \n",
        "            'loudness', 'speechiness', 'tempo', 'valence', 'popularity']\n",
        "\n",
        "def choice_of_user(artistRatingDict):\n",
        "    artists = artistRatingDict.keys()\n",
        "    artist_Mat = data_artist[data_artist['artists'].isin(artists)]\n",
        "    #print(artist_Mat)\n",
        "    \n",
        "    for artist, rating in artistRatingDict.items():\n",
        "        artist_Mat.loc[artist_Mat['artists']==\n",
        "                   artist,features] = artist_Mat.loc[artist_Mat['artists']==\n",
        "                                                 artist,features].mul(rating,axis=0)\n",
        "    \n",
        "  \n",
        "    userProfile = artist_Mat.loc[:,features].sum(axis=0)\n",
        "    normalized_userProfile = (userProfile/userProfile.sum())*10\n",
        "    \n",
        "    return normalized_userProfile\n",
        "\n",
        "def createRecomMatrix(userProfile,artists):\n",
        "    \n",
        "    artist_Mat = data_artist[~data_artist['artists'].isin(artists)]\n",
        "    artist_Mat.set_index('artists',inplace=True) \n",
        "    #print(userProfile)\n",
        "    #print(artist_Mat.head())\n",
        "    \n",
        "    recomMat = pd.DataFrame(artist_Mat.values*userProfile.values, \n",
        "                            columns=artist_Mat.columns, index=artist_Mat.index)\n",
        "    recomMat = recomMat.sum(axis=1)\n",
        "    recomMat.sort_values(ascending = False,inplace=True)\n",
        "    \n",
        "    return recomMat\n",
        "\n",
        "def recommend(artistRatingDict):\n",
        "    \n",
        "    userProfile = choice_of_user(artistRatingDict)\n",
        "    \n",
        "    recommendationMat = createRecomMatrix(userProfile,\n",
        "                                          artistRatingDict.keys()) \n",
        "    \n",
        "    return recommendationMat.head(10)"
      ],
      "execution_count": 45,
      "outputs": []
    },
    {
      "cell_type": "markdown",
      "metadata": {
        "id": "zTXwE4tHj3Iv"
      },
      "source": [
        "Generating random user ratings."
      ]
    },
    {
      "cell_type": "code",
      "metadata": {
        "id": "R8SDnBIzj3Iv",
        "colab": {
          "base_uri": "https://localhost:8080/"
        },
        "outputId": "d025b81a-5817-4833-84ce-6f2330487877"
      },
      "source": [
        "import random\n",
        "artists = random.sample(list(data['artists']),k=10)\n",
        "ratings = [10,10,8,5,9,2,3,7,6,10]\n",
        "dictionary = dict(zip(artists, ratings))\n",
        "print(dictionary)"
      ],
      "execution_count": 46,
      "outputs": [
        {
          "output_type": "stream",
          "text": [
            "{'Sotos Panagopoulos': 10, 'The Midnight': 10, 'Old Sea Brigade': 8, 'Blood Red Shoes': 5, 'Public Enemy': 9, 'Lee Spielman': 2, 'Andra Day': 3, 'Amistades Peligrosas': 7, 'Bonn': 6, 'Emerson String Quartet': 10}\n"
          ],
          "name": "stdout"
        }
      ]
    },
    {
      "cell_type": "markdown",
      "metadata": {
        "id": "zCtt2Uw0j3Iv"
      },
      "source": [
        "Reporting top 10 recommended artists with predicted ratings."
      ]
    },
    {
      "cell_type": "code",
      "metadata": {
        "id": "D5h-8K-Rj3Iw",
        "colab": {
          "base_uri": "https://localhost:8080/"
        },
        "outputId": "006ca3bc-b956-4e37-ad53-10e6b619e5a6"
      },
      "source": [
        "recommend(dictionary)"
      ],
      "execution_count": 47,
      "outputs": [
        {
          "output_type": "stream",
          "text": [
            "/usr/local/lib/python3.6/dist-packages/pandas/core/indexing.py:1715: SettingWithCopyWarning: \n",
            "A value is trying to be set on a copy of a slice from a DataFrame.\n",
            "Try using .loc[row_indexer,col_indexer] = value instead\n",
            "\n",
            "See the caveats in the documentation: https://pandas.pydata.org/pandas-docs/stable/user_guide/indexing.html#returning-a-view-versus-a-copy\n",
            "  isetter(loc, v)\n"
          ],
          "name": "stderr"
        },
        {
          "output_type": "execute_result",
          "data": {
            "text/plain": [
              "artists\n",
              "Hawkins C. All Star Jam Band    7.997701\n",
              "The Jiants                      7.968844\n",
              "Aymara pan-pipe orchestra       7.921963\n",
              "Kala Balch                      7.912405\n",
              "Marco Marinangeli               7.912405\n",
              "DJ Mister Cee                   7.912194\n",
              "Mndsgn                          7.830670\n",
              "Sofie                           7.830670\n",
              "Tim Armstrong                   7.794319\n",
              "Edmundo Ros                     7.790437\n",
              "dtype: float64"
            ]
          },
          "metadata": {
            "tags": []
          },
          "execution_count": 47
        }
      ]
    }
  ]
}