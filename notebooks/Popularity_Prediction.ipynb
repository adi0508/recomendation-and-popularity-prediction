{
  "nbformat": 4,
  "nbformat_minor": 0,
  "metadata": {
    "colab": {
      "name": "Popularity_Prediction.ipynb",
      "provenance": [],
      "collapsed_sections": []
    },
    "kernelspec": {
      "display_name": "Python 3",
      "language": "python",
      "name": "python3"
    },
    "language_info": {
      "codemirror_mode": {
        "name": "ipython",
        "version": 3
      },
      "file_extension": ".py",
      "mimetype": "text/x-python",
      "name": "python",
      "nbconvert_exporter": "python",
      "pygments_lexer": "ipython3",
      "version": "3.8.3"
    }
  },
  "cells": [
    {
      "cell_type": "code",
      "metadata": {
        "colab": {
          "base_uri": "https://localhost:8080/"
        },
        "id": "4rUIVCM9kVzA",
        "outputId": "a5b69723-7bf6-4718-d85a-385bba10ab0e"
      },
      "source": [
        "from google.colab import drive\n",
        "drive.mount('/content/drive')"
      ],
      "execution_count": 1,
      "outputs": [
        {
          "output_type": "stream",
          "text": [
            "Mounted at /content/drive\n"
          ],
          "name": "stdout"
        }
      ]
    },
    {
      "cell_type": "code",
      "metadata": {
        "id": "R_Y_EJ3HTul-"
      },
      "source": [
        "import pandas as pd\n",
        "import numpy as np\n",
        "import matplotlib.pyplot as plt\n",
        "import seaborn as sns\n",
        "from sklearn.model_selection import train_test_split\n",
        "from sklearn.ensemble import RandomForestClassifier\n",
        "from sklearn.metrics import classification_report, confusion_matrix"
      ],
      "execution_count": 2,
      "outputs": []
    },
    {
      "cell_type": "code",
      "metadata": {
        "id": "r61SyEoxUM5d"
      },
      "source": [
        "pop=pd.read_csv('/content/drive/MyDrive/Technocolab/data.csv')"
      ],
      "execution_count": 3,
      "outputs": []
    },
    {
      "cell_type": "code",
      "metadata": {
        "colab": {
          "base_uri": "https://localhost:8080/",
          "height": 773
        },
        "id": "kckcIZFmUn1C",
        "outputId": "c2ba1662-a50c-4666-922f-8919ab288c3b"
      },
      "source": [
        "pop.head()"
      ],
      "execution_count": null,
      "outputs": [
        {
          "output_type": "execute_result",
          "data": {
            "text/html": [
              "<div>\n",
              "<style scoped>\n",
              "    .dataframe tbody tr th:only-of-type {\n",
              "        vertical-align: middle;\n",
              "    }\n",
              "\n",
              "    .dataframe tbody tr th {\n",
              "        vertical-align: top;\n",
              "    }\n",
              "\n",
              "    .dataframe thead th {\n",
              "        text-align: right;\n",
              "    }\n",
              "</style>\n",
              "<table border=\"1\" class=\"dataframe\">\n",
              "  <thead>\n",
              "    <tr style=\"text-align: right;\">\n",
              "      <th></th>\n",
              "      <th>acousticness</th>\n",
              "      <th>artists</th>\n",
              "      <th>danceability</th>\n",
              "      <th>duration_ms</th>\n",
              "      <th>energy</th>\n",
              "      <th>explicit</th>\n",
              "      <th>id</th>\n",
              "      <th>instrumentalness</th>\n",
              "      <th>key</th>\n",
              "      <th>liveness</th>\n",
              "      <th>loudness</th>\n",
              "      <th>mode</th>\n",
              "      <th>name</th>\n",
              "      <th>popularity</th>\n",
              "      <th>release_date</th>\n",
              "      <th>speechiness</th>\n",
              "      <th>tempo</th>\n",
              "      <th>valence</th>\n",
              "      <th>year</th>\n",
              "    </tr>\n",
              "  </thead>\n",
              "  <tbody>\n",
              "    <tr>\n",
              "      <th>0</th>\n",
              "      <td>0.995</td>\n",
              "      <td>['Carl Woitschach']</td>\n",
              "      <td>0.708</td>\n",
              "      <td>158648</td>\n",
              "      <td>0.1950</td>\n",
              "      <td>0</td>\n",
              "      <td>6KbQ3uYMLKb5jDxLF7wYDD</td>\n",
              "      <td>0.563</td>\n",
              "      <td>10</td>\n",
              "      <td>0.1510</td>\n",
              "      <td>-12.428</td>\n",
              "      <td>1</td>\n",
              "      <td>Singende Bataillone 1. Teil</td>\n",
              "      <td>0</td>\n",
              "      <td>1928</td>\n",
              "      <td>0.0506</td>\n",
              "      <td>118.469</td>\n",
              "      <td>0.7790</td>\n",
              "      <td>1928</td>\n",
              "    </tr>\n",
              "    <tr>\n",
              "      <th>1</th>\n",
              "      <td>0.994</td>\n",
              "      <td>['Robert Schumann', 'Vladimir Horowitz']</td>\n",
              "      <td>0.379</td>\n",
              "      <td>282133</td>\n",
              "      <td>0.0135</td>\n",
              "      <td>0</td>\n",
              "      <td>6KuQTIu1KoTTkLXKrwlLPV</td>\n",
              "      <td>0.901</td>\n",
              "      <td>8</td>\n",
              "      <td>0.0763</td>\n",
              "      <td>-28.454</td>\n",
              "      <td>1</td>\n",
              "      <td>Fantasiestücke, Op. 111: Più tosto lento</td>\n",
              "      <td>0</td>\n",
              "      <td>1928</td>\n",
              "      <td>0.0462</td>\n",
              "      <td>83.972</td>\n",
              "      <td>0.0767</td>\n",
              "      <td>1928</td>\n",
              "    </tr>\n",
              "    <tr>\n",
              "      <th>2</th>\n",
              "      <td>0.604</td>\n",
              "      <td>['Seweryn Goszczyński']</td>\n",
              "      <td>0.749</td>\n",
              "      <td>104300</td>\n",
              "      <td>0.2200</td>\n",
              "      <td>0</td>\n",
              "      <td>6L63VW0PibdM1HDSBoqnoM</td>\n",
              "      <td>0.000</td>\n",
              "      <td>5</td>\n",
              "      <td>0.1190</td>\n",
              "      <td>-19.924</td>\n",
              "      <td>0</td>\n",
              "      <td>Chapter 1.18 - Zamek kaniowski</td>\n",
              "      <td>0</td>\n",
              "      <td>1928</td>\n",
              "      <td>0.9290</td>\n",
              "      <td>107.177</td>\n",
              "      <td>0.8800</td>\n",
              "      <td>1928</td>\n",
              "    </tr>\n",
              "    <tr>\n",
              "      <th>3</th>\n",
              "      <td>0.995</td>\n",
              "      <td>['Francisco Canaro']</td>\n",
              "      <td>0.781</td>\n",
              "      <td>180760</td>\n",
              "      <td>0.1300</td>\n",
              "      <td>0</td>\n",
              "      <td>6M94FkXd15sOAOQYRnWPN8</td>\n",
              "      <td>0.887</td>\n",
              "      <td>1</td>\n",
              "      <td>0.1110</td>\n",
              "      <td>-14.734</td>\n",
              "      <td>0</td>\n",
              "      <td>Bebamos Juntos - Instrumental (Remasterizado)</td>\n",
              "      <td>0</td>\n",
              "      <td>1928-09-25</td>\n",
              "      <td>0.0926</td>\n",
              "      <td>108.003</td>\n",
              "      <td>0.7200</td>\n",
              "      <td>1928</td>\n",
              "    </tr>\n",
              "    <tr>\n",
              "      <th>4</th>\n",
              "      <td>0.990</td>\n",
              "      <td>['Frédéric Chopin', 'Vladimir Horowitz']</td>\n",
              "      <td>0.210</td>\n",
              "      <td>687733</td>\n",
              "      <td>0.2040</td>\n",
              "      <td>0</td>\n",
              "      <td>6N6tiFZ9vLTSOIxkj8qKrd</td>\n",
              "      <td>0.908</td>\n",
              "      <td>11</td>\n",
              "      <td>0.0980</td>\n",
              "      <td>-16.829</td>\n",
              "      <td>1</td>\n",
              "      <td>Polonaise-Fantaisie in A-Flat Major, Op. 61</td>\n",
              "      <td>1</td>\n",
              "      <td>1928</td>\n",
              "      <td>0.0424</td>\n",
              "      <td>62.149</td>\n",
              "      <td>0.0693</td>\n",
              "      <td>1928</td>\n",
              "    </tr>\n",
              "  </tbody>\n",
              "</table>\n",
              "</div>"
            ],
            "text/plain": [
              "   acousticness                                   artists  danceability  \\\n",
              "0         0.995                       ['Carl Woitschach']         0.708   \n",
              "1         0.994  ['Robert Schumann', 'Vladimir Horowitz']         0.379   \n",
              "2         0.604                   ['Seweryn Goszczyński']         0.749   \n",
              "3         0.995                      ['Francisco Canaro']         0.781   \n",
              "4         0.990  ['Frédéric Chopin', 'Vladimir Horowitz']         0.210   \n",
              "\n",
              "   duration_ms  energy  explicit                      id  instrumentalness  \\\n",
              "0       158648  0.1950         0  6KbQ3uYMLKb5jDxLF7wYDD             0.563   \n",
              "1       282133  0.0135         0  6KuQTIu1KoTTkLXKrwlLPV             0.901   \n",
              "2       104300  0.2200         0  6L63VW0PibdM1HDSBoqnoM             0.000   \n",
              "3       180760  0.1300         0  6M94FkXd15sOAOQYRnWPN8             0.887   \n",
              "4       687733  0.2040         0  6N6tiFZ9vLTSOIxkj8qKrd             0.908   \n",
              "\n",
              "   key  liveness  loudness  mode  \\\n",
              "0   10    0.1510   -12.428     1   \n",
              "1    8    0.0763   -28.454     1   \n",
              "2    5    0.1190   -19.924     0   \n",
              "3    1    0.1110   -14.734     0   \n",
              "4   11    0.0980   -16.829     1   \n",
              "\n",
              "                                            name  popularity release_date  \\\n",
              "0                    Singende Bataillone 1. Teil           0         1928   \n",
              "1       Fantasiestücke, Op. 111: Più tosto lento           0         1928   \n",
              "2                 Chapter 1.18 - Zamek kaniowski           0         1928   \n",
              "3  Bebamos Juntos - Instrumental (Remasterizado)           0   1928-09-25   \n",
              "4    Polonaise-Fantaisie in A-Flat Major, Op. 61           1         1928   \n",
              "\n",
              "   speechiness    tempo  valence  year  \n",
              "0       0.0506  118.469   0.7790  1928  \n",
              "1       0.0462   83.972   0.0767  1928  \n",
              "2       0.9290  107.177   0.8800  1928  \n",
              "3       0.0926  108.003   0.7200  1928  \n",
              "4       0.0424   62.149   0.0693  1928  "
            ]
          },
          "metadata": {
            "tags": []
          },
          "execution_count": 4
        }
      ]
    },
    {
      "cell_type": "code",
      "metadata": {
        "id": "OmSoNdHmUrMU"
      },
      "source": [
        "pop1=pop.drop(['id','name','artists','release_date'],axis=1)"
      ],
      "execution_count": 31,
      "outputs": []
    },
    {
      "cell_type": "code",
      "metadata": {
        "colab": {
          "base_uri": "https://localhost:8080/",
          "height": 218
        },
        "id": "-a8JRnRtVK3P",
        "outputId": "0830b731-ef59-4205-e933-497dfb2e2914"
      },
      "source": [
        "pop1.head()"
      ],
      "execution_count": 21,
      "outputs": [
        {
          "output_type": "execute_result",
          "data": {
            "text/html": [
              "<div>\n",
              "<style scoped>\n",
              "    .dataframe tbody tr th:only-of-type {\n",
              "        vertical-align: middle;\n",
              "    }\n",
              "\n",
              "    .dataframe tbody tr th {\n",
              "        vertical-align: top;\n",
              "    }\n",
              "\n",
              "    .dataframe thead th {\n",
              "        text-align: right;\n",
              "    }\n",
              "</style>\n",
              "<table border=\"1\" class=\"dataframe\">\n",
              "  <thead>\n",
              "    <tr style=\"text-align: right;\">\n",
              "      <th></th>\n",
              "      <th>acousticness</th>\n",
              "      <th>danceability</th>\n",
              "      <th>duration_ms</th>\n",
              "      <th>energy</th>\n",
              "      <th>explicit</th>\n",
              "      <th>instrumentalness</th>\n",
              "      <th>key</th>\n",
              "      <th>liveness</th>\n",
              "      <th>loudness</th>\n",
              "      <th>mode</th>\n",
              "      <th>popularity</th>\n",
              "      <th>speechiness</th>\n",
              "      <th>tempo</th>\n",
              "      <th>valence</th>\n",
              "      <th>year</th>\n",
              "    </tr>\n",
              "  </thead>\n",
              "  <tbody>\n",
              "    <tr>\n",
              "      <th>0</th>\n",
              "      <td>0.995</td>\n",
              "      <td>0.708</td>\n",
              "      <td>158648</td>\n",
              "      <td>0.1950</td>\n",
              "      <td>0</td>\n",
              "      <td>0.563</td>\n",
              "      <td>10</td>\n",
              "      <td>0.1510</td>\n",
              "      <td>-12.428</td>\n",
              "      <td>1</td>\n",
              "      <td>0</td>\n",
              "      <td>0.0506</td>\n",
              "      <td>118.469</td>\n",
              "      <td>0.7790</td>\n",
              "      <td>1928</td>\n",
              "    </tr>\n",
              "    <tr>\n",
              "      <th>1</th>\n",
              "      <td>0.994</td>\n",
              "      <td>0.379</td>\n",
              "      <td>282133</td>\n",
              "      <td>0.0135</td>\n",
              "      <td>0</td>\n",
              "      <td>0.901</td>\n",
              "      <td>8</td>\n",
              "      <td>0.0763</td>\n",
              "      <td>-28.454</td>\n",
              "      <td>1</td>\n",
              "      <td>0</td>\n",
              "      <td>0.0462</td>\n",
              "      <td>83.972</td>\n",
              "      <td>0.0767</td>\n",
              "      <td>1928</td>\n",
              "    </tr>\n",
              "    <tr>\n",
              "      <th>2</th>\n",
              "      <td>0.604</td>\n",
              "      <td>0.749</td>\n",
              "      <td>104300</td>\n",
              "      <td>0.2200</td>\n",
              "      <td>0</td>\n",
              "      <td>0.000</td>\n",
              "      <td>5</td>\n",
              "      <td>0.1190</td>\n",
              "      <td>-19.924</td>\n",
              "      <td>0</td>\n",
              "      <td>0</td>\n",
              "      <td>0.9290</td>\n",
              "      <td>107.177</td>\n",
              "      <td>0.8800</td>\n",
              "      <td>1928</td>\n",
              "    </tr>\n",
              "    <tr>\n",
              "      <th>3</th>\n",
              "      <td>0.995</td>\n",
              "      <td>0.781</td>\n",
              "      <td>180760</td>\n",
              "      <td>0.1300</td>\n",
              "      <td>0</td>\n",
              "      <td>0.887</td>\n",
              "      <td>1</td>\n",
              "      <td>0.1110</td>\n",
              "      <td>-14.734</td>\n",
              "      <td>0</td>\n",
              "      <td>0</td>\n",
              "      <td>0.0926</td>\n",
              "      <td>108.003</td>\n",
              "      <td>0.7200</td>\n",
              "      <td>1928</td>\n",
              "    </tr>\n",
              "    <tr>\n",
              "      <th>4</th>\n",
              "      <td>0.990</td>\n",
              "      <td>0.210</td>\n",
              "      <td>687733</td>\n",
              "      <td>0.2040</td>\n",
              "      <td>0</td>\n",
              "      <td>0.908</td>\n",
              "      <td>11</td>\n",
              "      <td>0.0980</td>\n",
              "      <td>-16.829</td>\n",
              "      <td>1</td>\n",
              "      <td>1</td>\n",
              "      <td>0.0424</td>\n",
              "      <td>62.149</td>\n",
              "      <td>0.0693</td>\n",
              "      <td>1928</td>\n",
              "    </tr>\n",
              "  </tbody>\n",
              "</table>\n",
              "</div>"
            ],
            "text/plain": [
              "   acousticness  danceability  duration_ms  ...    tempo  valence  year\n",
              "0         0.995         0.708       158648  ...  118.469   0.7790  1928\n",
              "1         0.994         0.379       282133  ...   83.972   0.0767  1928\n",
              "2         0.604         0.749       104300  ...  107.177   0.8800  1928\n",
              "3         0.995         0.781       180760  ...  108.003   0.7200  1928\n",
              "4         0.990         0.210       687733  ...   62.149   0.0693  1928\n",
              "\n",
              "[5 rows x 15 columns]"
            ]
          },
          "metadata": {
            "tags": []
          },
          "execution_count": 21
        }
      ]
    },
    {
      "cell_type": "code",
      "metadata": {
        "colab": {
          "base_uri": "https://localhost:8080/"
        },
        "id": "VjWwDBCqVLs0",
        "scrolled": true,
        "outputId": "717fac99-6d0c-4fec-af5a-7a80869537e2"
      },
      "source": [
        "a=np.sort(pop1.popularity.unique())\n",
        "a"
      ],
      "execution_count": 5,
      "outputs": [
        {
          "output_type": "execute_result",
          "data": {
            "text/plain": [
              "array([  0,   1,   2,   3,   4,   5,   6,   7,   8,   9,  10,  11,  12,\n",
              "        13,  14,  15,  16,  17,  18,  19,  20,  21,  22,  23,  24,  25,\n",
              "        26,  27,  28,  29,  30,  31,  32,  33,  34,  35,  36,  37,  38,\n",
              "        39,  40,  41,  42,  43,  44,  45,  46,  47,  48,  49,  50,  51,\n",
              "        52,  53,  54,  55,  56,  57,  58,  59,  60,  61,  62,  63,  64,\n",
              "        65,  66,  67,  68,  69,  70,  71,  72,  73,  74,  75,  76,  77,\n",
              "        78,  79,  80,  81,  82,  83,  84,  85,  86,  87,  88,  89,  90,\n",
              "        91,  92,  93,  94,  95,  96,  97,  99, 100])"
            ]
          },
          "metadata": {
            "tags": []
          },
          "execution_count": 5
        }
      ]
    },
    {
      "cell_type": "code",
      "metadata": {
        "id": "f3EaABq3xlsN"
      },
      "source": [
        "target = pop1['popularity']"
      ],
      "execution_count": 6,
      "outputs": []
    },
    {
      "cell_type": "code",
      "metadata": {
        "id": "soFxJ4mPkI2z"
      },
      "source": [
        "ar = target.to_list()"
      ],
      "execution_count": 7,
      "outputs": []
    },
    {
      "cell_type": "code",
      "metadata": {
        "id": "rmRfjYJXkI21"
      },
      "source": [
        "def unique(ar): \n",
        "    unique_list = [] \n",
        "      \n",
        "    for x in ar: \n",
        "        if x not in unique_list: \n",
        "            unique_list.append(x) \n",
        "    for x in unique_list: \n",
        "        print (x)"
      ],
      "execution_count": 8,
      "outputs": []
    },
    {
      "cell_type": "code",
      "metadata": {
        "colab": {
          "base_uri": "https://localhost:8080/"
        },
        "id": "h13CXYAvkI24",
        "outputId": "97254ead-d7c6-41c6-b32a-8586228700a4"
      },
      "source": [
        "type(ar)"
      ],
      "execution_count": null,
      "outputs": [
        {
          "output_type": "execute_result",
          "data": {
            "text/plain": [
              "list"
            ]
          },
          "metadata": {
            "tags": []
          },
          "execution_count": 9
        }
      ]
    },
    {
      "cell_type": "code",
      "metadata": {
        "id": "n2376TSvkI25"
      },
      "source": [
        "for i,ar[i] in enumerate(ar):\n",
        "    if ar[i]>=0 and ar[i]<=10:\n",
        "        ar[i] = 0\n",
        "    elif ar[i]>=11 and ar[i]<=20:\n",
        "        ar[i] = 1\n",
        "    elif ar[i]>=21 and ar[i]<=30:\n",
        "        ar[i] = 2\n",
        "    elif ar[i]>=31 and ar[i]<=40:\n",
        "        ar[i] = 3\n",
        "    elif ar[i]>=41 and ar[i]<=50:\n",
        "        ar[i] = 4\n",
        "    elif ar[i]>=51 and ar[i]<=60:\n",
        "        ar[i] = 5\n",
        "    elif ar[i]>=61 and ar[i]<=70:\n",
        "        ar[i] = 6\n",
        "    elif ar[i]>=71 and ar[i]<=80:\n",
        "        ar[i] = 7\n",
        "    elif ar[i]>=81 and ar[i]<=90:\n",
        "        ar[i] = 8\n",
        "    else:\n",
        "        ar[i] = 9"
      ],
      "execution_count": 9,
      "outputs": []
    },
    {
      "cell_type": "code",
      "metadata": {
        "colab": {
          "base_uri": "https://localhost:8080/"
        },
        "id": "VJNIl2dBkI26",
        "outputId": "cb072ffa-3868-4cba-fa84-b3d90db47999"
      },
      "source": [
        "unique(ar)"
      ],
      "execution_count": 10,
      "outputs": [
        {
          "output_type": "stream",
          "text": [
            "0\n",
            "1\n",
            "2\n",
            "4\n",
            "3\n",
            "5\n",
            "6\n",
            "7\n",
            "8\n",
            "9\n"
          ],
          "name": "stdout"
        }
      ]
    },
    {
      "cell_type": "code",
      "metadata": {
        "id": "YeGcj0tTkI29"
      },
      "source": [
        "pop1=pop1.drop(['popularity'],axis=1)"
      ],
      "execution_count": 32,
      "outputs": []
    },
    {
      "cell_type": "code",
      "metadata": {
        "id": "YlsZ72NaVbYH"
      },
      "source": [
        "pop1['popularity'] = ar"
      ],
      "execution_count": 33,
      "outputs": []
    },
    {
      "cell_type": "code",
      "metadata": {
        "colab": {
          "base_uri": "https://localhost:8080/",
          "height": 427
        },
        "id": "a7xZIRHfVofP",
        "outputId": "3eb83485-0368-4a72-9659-d7861e48ae9e"
      },
      "source": [
        "pop1"
      ],
      "execution_count": 34,
      "outputs": [
        {
          "output_type": "execute_result",
          "data": {
            "text/html": [
              "<div>\n",
              "<style scoped>\n",
              "    .dataframe tbody tr th:only-of-type {\n",
              "        vertical-align: middle;\n",
              "    }\n",
              "\n",
              "    .dataframe tbody tr th {\n",
              "        vertical-align: top;\n",
              "    }\n",
              "\n",
              "    .dataframe thead th {\n",
              "        text-align: right;\n",
              "    }\n",
              "</style>\n",
              "<table border=\"1\" class=\"dataframe\">\n",
              "  <thead>\n",
              "    <tr style=\"text-align: right;\">\n",
              "      <th></th>\n",
              "      <th>acousticness</th>\n",
              "      <th>danceability</th>\n",
              "      <th>duration_ms</th>\n",
              "      <th>energy</th>\n",
              "      <th>explicit</th>\n",
              "      <th>instrumentalness</th>\n",
              "      <th>key</th>\n",
              "      <th>liveness</th>\n",
              "      <th>loudness</th>\n",
              "      <th>mode</th>\n",
              "      <th>speechiness</th>\n",
              "      <th>tempo</th>\n",
              "      <th>valence</th>\n",
              "      <th>year</th>\n",
              "      <th>popularity</th>\n",
              "    </tr>\n",
              "  </thead>\n",
              "  <tbody>\n",
              "    <tr>\n",
              "      <th>0</th>\n",
              "      <td>0.9950</td>\n",
              "      <td>0.708</td>\n",
              "      <td>158648</td>\n",
              "      <td>0.1950</td>\n",
              "      <td>0</td>\n",
              "      <td>0.563000</td>\n",
              "      <td>10</td>\n",
              "      <td>0.1510</td>\n",
              "      <td>-12.428</td>\n",
              "      <td>1</td>\n",
              "      <td>0.0506</td>\n",
              "      <td>118.469</td>\n",
              "      <td>0.7790</td>\n",
              "      <td>1928</td>\n",
              "      <td>0</td>\n",
              "    </tr>\n",
              "    <tr>\n",
              "      <th>1</th>\n",
              "      <td>0.9940</td>\n",
              "      <td>0.379</td>\n",
              "      <td>282133</td>\n",
              "      <td>0.0135</td>\n",
              "      <td>0</td>\n",
              "      <td>0.901000</td>\n",
              "      <td>8</td>\n",
              "      <td>0.0763</td>\n",
              "      <td>-28.454</td>\n",
              "      <td>1</td>\n",
              "      <td>0.0462</td>\n",
              "      <td>83.972</td>\n",
              "      <td>0.0767</td>\n",
              "      <td>1928</td>\n",
              "      <td>0</td>\n",
              "    </tr>\n",
              "    <tr>\n",
              "      <th>2</th>\n",
              "      <td>0.6040</td>\n",
              "      <td>0.749</td>\n",
              "      <td>104300</td>\n",
              "      <td>0.2200</td>\n",
              "      <td>0</td>\n",
              "      <td>0.000000</td>\n",
              "      <td>5</td>\n",
              "      <td>0.1190</td>\n",
              "      <td>-19.924</td>\n",
              "      <td>0</td>\n",
              "      <td>0.9290</td>\n",
              "      <td>107.177</td>\n",
              "      <td>0.8800</td>\n",
              "      <td>1928</td>\n",
              "      <td>0</td>\n",
              "    </tr>\n",
              "    <tr>\n",
              "      <th>3</th>\n",
              "      <td>0.9950</td>\n",
              "      <td>0.781</td>\n",
              "      <td>180760</td>\n",
              "      <td>0.1300</td>\n",
              "      <td>0</td>\n",
              "      <td>0.887000</td>\n",
              "      <td>1</td>\n",
              "      <td>0.1110</td>\n",
              "      <td>-14.734</td>\n",
              "      <td>0</td>\n",
              "      <td>0.0926</td>\n",
              "      <td>108.003</td>\n",
              "      <td>0.7200</td>\n",
              "      <td>1928</td>\n",
              "      <td>0</td>\n",
              "    </tr>\n",
              "    <tr>\n",
              "      <th>4</th>\n",
              "      <td>0.9900</td>\n",
              "      <td>0.210</td>\n",
              "      <td>687733</td>\n",
              "      <td>0.2040</td>\n",
              "      <td>0</td>\n",
              "      <td>0.908000</td>\n",
              "      <td>11</td>\n",
              "      <td>0.0980</td>\n",
              "      <td>-16.829</td>\n",
              "      <td>1</td>\n",
              "      <td>0.0424</td>\n",
              "      <td>62.149</td>\n",
              "      <td>0.0693</td>\n",
              "      <td>1928</td>\n",
              "      <td>0</td>\n",
              "    </tr>\n",
              "    <tr>\n",
              "      <th>...</th>\n",
              "      <td>...</td>\n",
              "      <td>...</td>\n",
              "      <td>...</td>\n",
              "      <td>...</td>\n",
              "      <td>...</td>\n",
              "      <td>...</td>\n",
              "      <td>...</td>\n",
              "      <td>...</td>\n",
              "      <td>...</td>\n",
              "      <td>...</td>\n",
              "      <td>...</td>\n",
              "      <td>...</td>\n",
              "      <td>...</td>\n",
              "      <td>...</td>\n",
              "      <td>...</td>\n",
              "    </tr>\n",
              "    <tr>\n",
              "      <th>169904</th>\n",
              "      <td>0.1730</td>\n",
              "      <td>0.875</td>\n",
              "      <td>163800</td>\n",
              "      <td>0.4430</td>\n",
              "      <td>1</td>\n",
              "      <td>0.000032</td>\n",
              "      <td>1</td>\n",
              "      <td>0.0891</td>\n",
              "      <td>-7.461</td>\n",
              "      <td>1</td>\n",
              "      <td>0.1430</td>\n",
              "      <td>100.012</td>\n",
              "      <td>0.3060</td>\n",
              "      <td>2020</td>\n",
              "      <td>7</td>\n",
              "    </tr>\n",
              "    <tr>\n",
              "      <th>169905</th>\n",
              "      <td>0.0167</td>\n",
              "      <td>0.719</td>\n",
              "      <td>167468</td>\n",
              "      <td>0.3850</td>\n",
              "      <td>0</td>\n",
              "      <td>0.031300</td>\n",
              "      <td>8</td>\n",
              "      <td>0.1110</td>\n",
              "      <td>-10.907</td>\n",
              "      <td>1</td>\n",
              "      <td>0.0403</td>\n",
              "      <td>128.000</td>\n",
              "      <td>0.2700</td>\n",
              "      <td>2020</td>\n",
              "      <td>6</td>\n",
              "    </tr>\n",
              "    <tr>\n",
              "      <th>169906</th>\n",
              "      <td>0.5380</td>\n",
              "      <td>0.514</td>\n",
              "      <td>180700</td>\n",
              "      <td>0.5390</td>\n",
              "      <td>0</td>\n",
              "      <td>0.002330</td>\n",
              "      <td>7</td>\n",
              "      <td>0.1080</td>\n",
              "      <td>-9.332</td>\n",
              "      <td>1</td>\n",
              "      <td>0.1050</td>\n",
              "      <td>123.700</td>\n",
              "      <td>0.1530</td>\n",
              "      <td>2020</td>\n",
              "      <td>6</td>\n",
              "    </tr>\n",
              "    <tr>\n",
              "      <th>169907</th>\n",
              "      <td>0.0714</td>\n",
              "      <td>0.646</td>\n",
              "      <td>167308</td>\n",
              "      <td>0.7610</td>\n",
              "      <td>0</td>\n",
              "      <td>0.000000</td>\n",
              "      <td>1</td>\n",
              "      <td>0.2220</td>\n",
              "      <td>-2.557</td>\n",
              "      <td>1</td>\n",
              "      <td>0.0385</td>\n",
              "      <td>129.916</td>\n",
              "      <td>0.4720</td>\n",
              "      <td>2020</td>\n",
              "      <td>6</td>\n",
              "    </tr>\n",
              "    <tr>\n",
              "      <th>169908</th>\n",
              "      <td>0.1090</td>\n",
              "      <td>0.512</td>\n",
              "      <td>214787</td>\n",
              "      <td>0.4280</td>\n",
              "      <td>0</td>\n",
              "      <td>0.000000</td>\n",
              "      <td>0</td>\n",
              "      <td>0.1050</td>\n",
              "      <td>-7.387</td>\n",
              "      <td>1</td>\n",
              "      <td>0.0271</td>\n",
              "      <td>80.588</td>\n",
              "      <td>0.3660</td>\n",
              "      <td>2020</td>\n",
              "      <td>6</td>\n",
              "    </tr>\n",
              "  </tbody>\n",
              "</table>\n",
              "<p>169909 rows × 15 columns</p>\n",
              "</div>"
            ],
            "text/plain": [
              "        acousticness  danceability  duration_ms  ...  valence  year  popularity\n",
              "0             0.9950         0.708       158648  ...   0.7790  1928           0\n",
              "1             0.9940         0.379       282133  ...   0.0767  1928           0\n",
              "2             0.6040         0.749       104300  ...   0.8800  1928           0\n",
              "3             0.9950         0.781       180760  ...   0.7200  1928           0\n",
              "4             0.9900         0.210       687733  ...   0.0693  1928           0\n",
              "...              ...           ...          ...  ...      ...   ...         ...\n",
              "169904        0.1730         0.875       163800  ...   0.3060  2020           7\n",
              "169905        0.0167         0.719       167468  ...   0.2700  2020           6\n",
              "169906        0.5380         0.514       180700  ...   0.1530  2020           6\n",
              "169907        0.0714         0.646       167308  ...   0.4720  2020           6\n",
              "169908        0.1090         0.512       214787  ...   0.3660  2020           6\n",
              "\n",
              "[169909 rows x 15 columns]"
            ]
          },
          "metadata": {
            "tags": []
          },
          "execution_count": 34
        }
      ]
    },
    {
      "cell_type": "code",
      "metadata": {
        "colab": {
          "base_uri": "https://localhost:8080/"
        },
        "id": "A6DuXYXgXx5t",
        "outputId": "c2317697-a6b2-455b-fd32-6deae1fe8a59"
      },
      "source": [
        "pop1.popularity.value_counts()"
      ],
      "execution_count": 41,
      "outputs": [
        {
          "output_type": "execute_result",
          "data": {
            "text/plain": [
              "0    40468\n",
              "4    29027\n",
              "3    28300\n",
              "2    23536\n",
              "5    20241\n",
              "1    12720\n",
              "6    11801\n",
              "7     3359\n",
              "8      422\n",
              "9       35\n",
              "Name: popularity, dtype: int64"
            ]
          },
          "metadata": {
            "tags": []
          },
          "execution_count": 41
        }
      ]
    },
    {
      "cell_type": "markdown",
      "metadata": {
        "id": "7f88oICsdNFu"
      },
      "source": [
        "**Here the frequency of 0's, 4's and 3's are comparatively higher as compared to 8's and 9's.**"
      ]
    },
    {
      "cell_type": "code",
      "metadata": {
        "id": "Ccl50Y9PDgyK"
      },
      "source": [
        "x=pop1.drop(['popularity'],axis=1)\n",
        "y=pop1['popularity']"
      ],
      "execution_count": 65,
      "outputs": []
    },
    {
      "cell_type": "code",
      "metadata": {
        "id": "IXdma-4BEiAA"
      },
      "source": [
        "x_train,x_test,y_train,y_test=train_test_split(x,y,test_size=0.2)\r\n",
        "rfc=RandomForestClassifier(n_estimators = 100, random_state = 1)\r\n",
        "rfc.fit(x_train,y_train)\r\n",
        "rfc_predict = rfc.predict(x_test)"
      ],
      "execution_count": 66,
      "outputs": []
    },
    {
      "cell_type": "code",
      "metadata": {
        "colab": {
          "base_uri": "https://localhost:8080/"
        },
        "id": "zxE6hBy1F-ym",
        "outputId": "6cd2b83b-5fe6-4cfe-e05e-71bb9a01c088"
      },
      "source": [
        "print(confusion_matrix(y_test, rfc_predict))"
      ],
      "execution_count": 38,
      "outputs": [
        {
          "output_type": "stream",
          "text": [
            "[[11158   784    68     6     1     0    20    10     2     0]\n",
            " [  913  1921   802   118    14     2     3     0     0     0]\n",
            " [  281  1016  3444  2071   213    20     9     1     1     0]\n",
            " [  126   465  2435  3601  1840   144    16     4     0     0]\n",
            " [   27   198  1136  2243  4041  1061    53     9     0     0]\n",
            " [   14    87   423   956  2334  1702   501    20     2     0]\n",
            " [    6    25   162   289   777   805  1417    63     2     0]\n",
            " [    3     5    28    56   116   154   527    67     6     0]\n",
            " [    0     0     2     2     7    11    90    22     4     0]\n",
            " [    0     0     0     0     0     0     8     1     2     0]]\n"
          ],
          "name": "stdout"
        }
      ]
    },
    {
      "cell_type": "code",
      "metadata": {
        "colab": {
          "base_uri": "https://localhost:8080/"
        },
        "id": "repdCFHPXXPb",
        "outputId": "03d6cab9-5e2f-471c-8d6d-083236597192"
      },
      "source": [
        "print(classification_report(y_test, rfc_predict))"
      ],
      "execution_count": 67,
      "outputs": [
        {
          "output_type": "stream",
          "text": [
            "              precision    recall  f1-score   support\n",
            "\n",
            "           0       0.89      0.93      0.91      8099\n",
            "           1       0.43      0.52      0.47      2481\n",
            "           2       0.41      0.50      0.45      4632\n",
            "           3       0.39      0.43      0.41      5609\n",
            "           4       0.45      0.47      0.46      5888\n",
            "           5       0.45      0.28      0.34      4127\n",
            "           6       0.53      0.40      0.46      2362\n",
            "           7       0.29      0.06      0.11       685\n",
            "           8       0.33      0.07      0.11        92\n",
            "           9       0.00      0.00      0.00         7\n",
            "\n",
            "    accuracy                           0.54     33982\n",
            "   macro avg       0.42      0.37      0.37     33982\n",
            "weighted avg       0.54      0.54      0.53     33982\n",
            "\n"
          ],
          "name": "stdout"
        }
      ]
    },
    {
      "cell_type": "markdown",
      "metadata": {
        "id": "UDys4wGreZcY"
      },
      "source": [
        "**Here, the accuracy comes out to be 54 % just because uneven distribution of frequencies of observations in the target variable.**"
      ]
    },
    {
      "cell_type": "code",
      "metadata": {
        "colab": {
          "base_uri": "https://localhost:8080/"
        },
        "id": "F5gM-pWPY55s",
        "outputId": "bac9de8f-216b-498a-ca87-deae3626e08a"
      },
      "source": [
        "rfc.feature_importances_"
      ],
      "execution_count": 68,
      "outputs": [
        {
          "output_type": "execute_result",
          "data": {
            "text/plain": [
              "array([0.09477711, 0.06088487, 0.0682086 , 0.07464129, 0.00488152,\n",
              "       0.05102911, 0.03721901, 0.05998166, 0.07508221, 0.00951938,\n",
              "       0.06485827, 0.06023726, 0.0608039 , 0.27787579])"
            ]
          },
          "metadata": {
            "tags": []
          },
          "execution_count": 68
        }
      ]
    },
    {
      "cell_type": "code",
      "metadata": {
        "colab": {
          "base_uri": "https://localhost:8080/",
          "height": 519
        },
        "id": "Uz10egnpY9xC",
        "outputId": "dd5e5847-ed44-4594-b28a-c4618146a632"
      },
      "source": [
        "importance = rfc.feature_importances_\r\n",
        "# summarize feature importance\r\n",
        "for i,v in enumerate(importance):\r\n",
        "\tprint('Feature: %0d, Score: %.5f' % (i,v))\r\n",
        "# plot feature importance\r\n",
        "plt.bar([x for x in range(len(importance))], importance)\r\n",
        "plt.show()"
      ],
      "execution_count": 69,
      "outputs": [
        {
          "output_type": "stream",
          "text": [
            "Feature: 0, Score: 0.09478\n",
            "Feature: 1, Score: 0.06088\n",
            "Feature: 2, Score: 0.06821\n",
            "Feature: 3, Score: 0.07464\n",
            "Feature: 4, Score: 0.00488\n",
            "Feature: 5, Score: 0.05103\n",
            "Feature: 6, Score: 0.03722\n",
            "Feature: 7, Score: 0.05998\n",
            "Feature: 8, Score: 0.07508\n",
            "Feature: 9, Score: 0.00952\n",
            "Feature: 10, Score: 0.06486\n",
            "Feature: 11, Score: 0.06024\n",
            "Feature: 12, Score: 0.06080\n",
            "Feature: 13, Score: 0.27788\n"
          ],
          "name": "stdout"
        },
        {
          "output_type": "display_data",
          "data": {
            "image/png": "[encoded data removed]",
            "text/plain": [
              "<Figure size 432x288 with 1 Axes>"
            ]
          },
          "metadata": {
            "tags": [],
            "needs_background": "light"
          }
        }
      ]
    },
    {
      "cell_type": "markdown",
      "metadata": {
        "id": "VgMpyM8Zeura"
      },
      "source": [
        "**By using this above plot one can easily observe the important features in predicting the target variable. So one can consecutively reduce the unimportant features and remodelling the data for predicting the target variable i.e. popularity. For example here by observing the graph one determine that 4th and 9th features are contributing less in predicting the target variable.**"
      ]
    },
    {
      "cell_type": "code",
      "metadata": {
        "colab": {
          "base_uri": "https://localhost:8080/"
        },
        "id": "ZJSpNG20ZFk6",
        "outputId": "f7233872-d065-412f-c8ca-5011901e1093"
      },
      "source": [
        "x.columns"
      ],
      "execution_count": 80,
      "outputs": [
        {
          "output_type": "execute_result",
          "data": {
            "text/plain": [
              "Index(['acousticness', 'danceability', 'duration_ms', 'energy', 'explicit',\n",
              "       'instrumentalness', 'key', 'liveness', 'loudness', 'mode',\n",
              "       'speechiness', 'tempo', 'valence', 'year'],\n",
              "      dtype='object')"
            ]
          },
          "metadata": {
            "tags": []
          },
          "execution_count": 80
        }
      ]
    },
    {
      "cell_type": "code",
      "metadata": {
        "id": "EsPd2cmGZr3C"
      },
      "source": [
        "pop2=pop1.drop(['explicit','key','mode'],axis=1)\r\n",
        "x1=pop2.drop(['popularity'],axis=1)\r\n",
        "y1=pop2['popularity']"
      ],
      "execution_count": 82,
      "outputs": []
    },
    {
      "cell_type": "code",
      "metadata": {
        "id": "2BIGlXCdaCXn"
      },
      "source": [
        "#Train test splitting\r\n",
        "x1_train,x1_test,y1_train,y1_test=train_test_split(x1,y1,test_size=0.2)\r\n",
        "\r\n",
        "#fitting the model\r\n",
        "rfc=RandomForestClassifier(n_estimators = 100, random_state = 1)\r\n",
        "rfc.fit(x1_train,y1_train)\r\n",
        "rfc_predict = rfc.predict(x1_test)"
      ],
      "execution_count": 83,
      "outputs": []
    },
    {
      "cell_type": "code",
      "metadata": {
        "colab": {
          "base_uri": "https://localhost:8080/"
        },
        "id": "fiihmWw6aIe4",
        "outputId": "246d3abf-2a88-4c69-f4e5-cc9eaabb0828"
      },
      "source": [
        "print(classification_report(y1_test, rfc_predict))"
      ],
      "execution_count": 84,
      "outputs": [
        {
          "output_type": "stream",
          "text": [
            "              precision    recall  f1-score   support\n",
            "\n",
            "           0       0.89      0.93      0.91      8145\n",
            "           1       0.43      0.50      0.46      2538\n",
            "           2       0.41      0.50      0.45      4688\n",
            "           3       0.39      0.43      0.41      5629\n",
            "           4       0.45      0.46      0.46      5851\n",
            "           5       0.44      0.29      0.35      4048\n",
            "           6       0.53      0.37      0.44      2348\n",
            "           7       0.30      0.08      0.12       642\n",
            "           8       0.25      0.05      0.08        85\n",
            "           9       0.00      0.00      0.00         8\n",
            "\n",
            "    accuracy                           0.54     33982\n",
            "   macro avg       0.41      0.36      0.37     33982\n",
            "weighted avg       0.54      0.54      0.53     33982\n",
            "\n"
          ],
          "name": "stdout"
        }
      ]
    },
    {
      "cell_type": "code",
      "metadata": {
        "colab": {
          "base_uri": "https://localhost:8080/",
          "height": 465
        },
        "id": "_68O3cuhactT",
        "outputId": "94c90f0c-dfa7-4e44-a4fa-70f9555dfcce"
      },
      "source": [
        "importance = rfc.feature_importances_\r\n",
        "# summarize feature importance\r\n",
        "for i,v in enumerate(importance):\r\n",
        "\tprint('Feature: %0d, Score: %.5f' % (i,v))\r\n",
        "# plot feature importance\r\n",
        "plt.bar([k for k in range(len(importance))], importance)\r\n",
        "plt.show()"
      ],
      "execution_count": 85,
      "outputs": [
        {
          "output_type": "stream",
          "text": [
            "Feature: 0, Score: 0.10370\n",
            "Feature: 1, Score: 0.06565\n",
            "Feature: 2, Score: 0.07295\n",
            "Feature: 3, Score: 0.07689\n",
            "Feature: 4, Score: 0.05441\n",
            "Feature: 5, Score: 0.06431\n",
            "Feature: 6, Score: 0.08077\n",
            "Feature: 7, Score: 0.06997\n",
            "Feature: 8, Score: 0.06443\n",
            "Feature: 9, Score: 0.06521\n",
            "Feature: 10, Score: 0.28172\n"
          ],
          "name": "stdout"
        },
        {
          "output_type": "display_data",
          "data": {
            "image/png": "[encoded data removed]",
            "text/plain": [
              "<Figure size 432x288 with 1 Axes>"
            ]
          },
          "metadata": {
            "tags": [],
            "needs_background": "light"
          }
        }
      ]
    },
    {
      "cell_type": "markdown",
      "metadata": {
        "id": "29Ob_kiRgjaQ"
      },
      "source": [
        "**Now here, 4th feature contribute less in predicting the target variable so we can just remove it and try to remodel the dataset. Similarly, we can continue this process unitill we get the features which are contributing well enough in predicting the target variable.**"
      ]
    },
    {
      "cell_type": "code",
      "metadata": {
        "colab": {
          "base_uri": "https://localhost:8080/"
        },
        "id": "71oW_guxbByg",
        "outputId": "d4699677-ab5c-4d3d-c467-8752cce5c209"
      },
      "source": [
        "x1.columns"
      ],
      "execution_count": 86,
      "outputs": [
        {
          "output_type": "execute_result",
          "data": {
            "text/plain": [
              "Index(['acousticness', 'danceability', 'duration_ms', 'energy',\n",
              "       'instrumentalness', 'liveness', 'loudness', 'speechiness', 'tempo',\n",
              "       'valence', 'year'],\n",
              "      dtype='object')"
            ]
          },
          "metadata": {
            "tags": []
          },
          "execution_count": 86
        }
      ]
    },
    {
      "cell_type": "code",
      "metadata": {
        "id": "2UH9rZJLadXF"
      },
      "source": [
        "pop3=pop2.drop(['instrumentalness'],axis=1)"
      ],
      "execution_count": 87,
      "outputs": []
    },
    {
      "cell_type": "code",
      "metadata": {
        "colab": {
          "base_uri": "https://localhost:8080/"
        },
        "id": "FwNgIOTvbFnT",
        "outputId": "b06cc371-e2f3-4473-c332-b416b1238ad1"
      },
      "source": [
        "x2=pop3.drop(['popularity'],axis=1)\r\n",
        "y2=pop3['popularity']\r\n",
        "x2_train,x2_test,y2_train,y2_test=train_test_split(x2,y2,test_size=0.2)\r\n",
        "rfc=RandomForestClassifier(n_estimators = 100, random_state = 1)\r\n",
        "rfc.fit(x2_train,y2_train)\r\n",
        "rfc_predict = rfc.predict(x2_test)\r\n",
        "print(classification_report(y2_test, rfc_predict))"
      ],
      "execution_count": 88,
      "outputs": [
        {
          "output_type": "stream",
          "text": [
            "              precision    recall  f1-score   support\n",
            "\n",
            "           0       0.89      0.92      0.91      8070\n",
            "           1       0.42      0.52      0.46      2441\n",
            "           2       0.41      0.50      0.45      4734\n",
            "           3       0.39      0.43      0.41      5748\n",
            "           4       0.43      0.46      0.44      5793\n",
            "           5       0.43      0.27      0.33      4025\n",
            "           6       0.54      0.39      0.46      2409\n",
            "           7       0.32      0.09      0.14       668\n",
            "           8       0.20      0.04      0.06        84\n",
            "           9       0.00      0.00      0.00        10\n",
            "\n",
            "    accuracy                           0.54     33982\n",
            "   macro avg       0.40      0.36      0.37     33982\n",
            "weighted avg       0.54      0.54      0.53     33982\n",
            "\n"
          ],
          "name": "stdout"
        }
      ]
    },
    {
      "cell_type": "code",
      "metadata": {
        "colab": {
          "base_uri": "https://localhost:8080/",
          "height": 446
        },
        "id": "C-Sq4R9-bS4v",
        "outputId": "5907f1b9-febe-44b3-f39d-19fcdc138e8d"
      },
      "source": [
        "importance = rfc.feature_importances_\r\n",
        "# summarize feature importance\r\n",
        "for i,v in enumerate(importance):\r\n",
        "\tprint('Feature: %0d, Score: %.5f' % (i,v))\r\n",
        "# plot feature importance\r\n",
        "plt.bar([k for k in range(len(importance))], importance)\r\n",
        "plt.show()"
      ],
      "execution_count": 90,
      "outputs": [
        {
          "output_type": "stream",
          "text": [
            "Feature: 0, Score: 0.10568\n",
            "Feature: 1, Score: 0.06995\n",
            "Feature: 2, Score: 0.07806\n",
            "Feature: 3, Score: 0.08092\n",
            "Feature: 4, Score: 0.06930\n",
            "Feature: 5, Score: 0.08530\n",
            "Feature: 6, Score: 0.07416\n",
            "Feature: 7, Score: 0.06979\n",
            "Feature: 8, Score: 0.07018\n",
            "Feature: 9, Score: 0.29666\n"
          ],
          "name": "stdout"
        },
        {
          "output_type": "display_data",
          "data": {
            "image/png": "[encoded data removed]",
            "text/plain": [
              "<Figure size 432x288 with 1 Axes>"
            ]
          },
          "metadata": {
            "tags": [],
            "needs_background": "light"
          }
        }
      ]
    },
    {
      "cell_type": "code",
      "metadata": {
        "colab": {
          "base_uri": "https://localhost:8080/"
        },
        "id": "B2yTY-DmmCmN",
        "outputId": "6d6ce231-2877-4a2d-e180-df09b5e829e8"
      },
      "source": [
        "x2.columns"
      ],
      "execution_count": 92,
      "outputs": [
        {
          "output_type": "execute_result",
          "data": {
            "text/plain": [
              "Index(['acousticness', 'danceability', 'duration_ms', 'energy', 'liveness',\n",
              "       'loudness', 'speechiness', 'tempo', 'valence', 'year'],\n",
              "      dtype='object')"
            ]
          },
          "metadata": {
            "tags": []
          },
          "execution_count": 92
        }
      ]
    },
    {
      "cell_type": "markdown",
      "metadata": {
        "id": "UR04D2f5jx4h"
      },
      "source": [
        "**So here, from the graph we can observe that 9th feature i.e. \"year\" contributing highest in predicting the target variable and all other features contribute almost similar amount in prediction.**"
      ]
    },
    {
      "cell_type": "markdown",
      "metadata": {
        "id": "1mcWJu6ycJWI"
      },
      "source": [
        "**So following are the features which are contributing well enough in prediciting the popularity of songs :**\r\n",
        "\r\n",
        "1.   **'acousticness'**\r\n",
        "2.   **'danceability'**\r\n",
        "3.   **'duration_ms'**\r\n",
        "4.   **'energy'**\r\n",
        "5.   **'liveness'**\r\n",
        "6.   **'loudness'**\r\n",
        "7.   **'speechiness'**\r\n",
        "8.   **'tempo'**\r\n",
        "9.   **'valence'**\r\n",
        "10.  **'year'**"
      ]
    }
  ]
}